import pandas as pd
import seaborn as sns

df = pd.read_csv("../data/cleaned_data.csv")
sns.barplot(x="country", y="test_scores", data=df).set_title("EU Education Performance (2023)")
